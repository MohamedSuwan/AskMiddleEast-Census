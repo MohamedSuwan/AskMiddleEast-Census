{
 "cells": [
  {
   "cell_type": "code",
   "execution_count": 346,
   "metadata": {},
   "outputs": [],
   "source": [
    "import pandas as pd\n",
    "import numpy as np\n",
    "import matplotlib.pyplot as plt\n",
    "plt.style.use(\"ggplot\")"
   ]
  },
  {
   "cell_type": "code",
   "execution_count": 347,
   "metadata": {},
   "outputs": [],
   "source": [
    "data=pd.read_csv(\"AskMiddleEast 2022 Census.csv\")"
   ]
  },
  {
   "cell_type": "markdown",
   "metadata": {},
   "source": [
    "This guy filled the survey 20000 times, dropped all his entries."
   ]
  },
  {
   "cell_type": "code",
   "execution_count": 348,
   "metadata": {},
   "outputs": [],
   "source": [
    "data.drop((data.loc[data[\"Country of origin\"]==\"100% chadraqi\"]).index,inplace=True)"
   ]
  },
  {
   "cell_type": "markdown",
   "metadata": {},
   "source": [
    "I made a huge mistake giving the target audience the option to write, questions that required writing were less likely to be answered and needed cleaning.\n",
    "\n",
    "strings with emojis, spaces, different cases and transliteration"
   ]
  },
  {
   "cell_type": "code",
   "execution_count": 349,
   "metadata": {},
   "outputs": [],
   "source": [
    "countries=[\"The country you love the most\",\"The country you hate the most\",\"Country of origin\"]\n",
    "\n",
    "for country in countries:\n",
    "    data=data.replace({f\"{country}\":\".*(audi|KSA|سلمان).*\"},\"Saudi Arabia\",regex=True)\n",
    "    data=data.replace({f\"{country}\":\".*(Is|rael|isr).*\"},\"Israel\",regex=True)\n",
    "    data=data.replace({f\"{country}\":\".*Eg.*\"},\"Egypt\",regex=True)\n",
    "    data=data.replace({f\"{country}\":[\".*(tate|US|Merica|America).*\"]},\"USA\",regex=True)\n",
    "    data=data.replace({f\"{country}\":[\".*(les|Plastne|Palestine|tine).*\"]},\"Palestine\",regex=True)\n",
    "    data=data.replace({f\"{country}\":[\".*(aki).*\"]},\"Pakistan\",regex=True)\n",
    "    data=data.replace({f\"{country}\":[\".*(occo).*\"]},\"Morocco\",regex=True)\n",
    "    data=data.replace({f\"{country}\":[\".*(urk|IYE|iye|İYE).*\"]},\"Turkey\",regex=True)\n",
    "    data=data.replace({f\"{country}\":[\".*(Emi|UAE|Uae).*\"]},\"UAE\",regex=True)\n",
    "    data=data.replace({f\"{country}\":[\".*ord.*\"]},\"Jordan\",regex=True)\n",
    "    data=data.replace({f\"{country}\":[\".*(United Kingdom|Eng|Britania).*\"]},\"UK\",regex=True)\n",
    "    data=data.replace({f\"{country}\":[\".*Leb.*\"]},\"Lebanon\",regex=True)\n",
    "    data=data.replace({f\"{country}\":[\".*Syr.*\"]},\"Syria\",regex=True)\n",
    "    data=data.replace({f\"{country}\":[\".*Ind.*\"]},\"India\",regex=True)\n",
    "    data=data.replace({f\"{country}\":[\".*Tun.*\"]},\"Tunisia\",regex=True)\n",
    "    data=data.replace({f\"{country}\":[\".*Afgh.*\"]},\"Afghanistan\",regex=True)\n",
    "    data=data.replace({f\"{country}\":[\".*Lib.*\"]},\"Libya\",regex=True)\n",
    "    data=data.replace({f\"{country}\":[\".*(one|Nil|N/a).*\"]},\"Libya\",regex=True)\n",
    "    data=data.replace({f\"{country}\":[\".*nce.*\"]},\"France\",regex=True)\n",
    "    data=data.replace({f\"{country}\":[\".*CCP.*\"]},\"China\",regex=True)\n",
    "    data=data.replace({f\"{country}\":[\".*Iran.*\"]},\"Iran\",regex=True)\n",
    "    data=data.replace({f\"{country}\":[\".*Kuwait.*\"]},\"Kuwait\",regex=True)\n",
    "    data=data.replace({f\"{country}\":[\".*(apan|AAAAA).*\"]},\"Japan\",regex=True)\n",
    "    data=data.replace({f\"{country}\":[\".*(raq).*\"]},\"Iraq\",regex=True)\n",
    "    data=data.replace({f\"{country}\":[\".*(geria).*\"]},\"Algeria\",regex=True)\n",
    "    data=data.replace({f\"{country}\":[\".*(ussia).*\"]},\"Russia\",regex=True)\n",
    "    data=data.replace({f\"{country}\":[\".*(reece).*\"]},\"Greece\",regex=True)\n",
    "    data=data.replace({f\"{country}\":[\".*(Nether).*\"]},\"Netherlands\",regex=True)\n",
    "\n",
    "    \n",
    "    "
   ]
  },
  {
   "cell_type": "markdown",
   "metadata": {},
   "source": [
    "I made a mistake when making the survey and made an option \"Studend\" instead of \"Student\""
   ]
  },
  {
   "cell_type": "code",
   "execution_count": 350,
   "metadata": {},
   "outputs": [],
   "source": [
    "data.loc[data[\"Professional status\"]==\"Studend\",\"Professional status\"]=\"Student\""
   ]
  },
  {
   "cell_type": "code",
   "execution_count": 351,
   "metadata": {},
   "outputs": [
    {
     "data": {
      "text/html": [
       "<div>\n",
       "<style scoped>\n",
       "    .dataframe tbody tr th:only-of-type {\n",
       "        vertical-align: middle;\n",
       "    }\n",
       "\n",
       "    .dataframe tbody tr th {\n",
       "        vertical-align: top;\n",
       "    }\n",
       "\n",
       "    .dataframe thead th {\n",
       "        text-align: right;\n",
       "    }\n",
       "</style>\n",
       "<table border=\"1\" class=\"dataframe\">\n",
       "  <thead>\n",
       "    <tr style=\"text-align: right;\">\n",
       "      <th></th>\n",
       "      <th>Timestamp</th>\n",
       "      <th>Country of origin</th>\n",
       "      <th>Gender</th>\n",
       "      <th>How old are you</th>\n",
       "      <th>Marital status</th>\n",
       "      <th>Professional status</th>\n",
       "      <th>Are you a refugee</th>\n",
       "      <th>What is your highest level of education</th>\n",
       "      <th>Major</th>\n",
       "      <th>choose a pet</th>\n",
       "      <th>...</th>\n",
       "      <th>How many languages can you speak</th>\n",
       "      <th>The country you love the most</th>\n",
       "      <th>The country you hate the most</th>\n",
       "      <th>Religion</th>\n",
       "      <th>Saudi Arabia's oil belongs to</th>\n",
       "      <th>I Support a</th>\n",
       "      <th>I stand with</th>\n",
       "      <th>I Stand With</th>\n",
       "      <th>Are you satisfied with the current status of your country</th>\n",
       "      <th>Fuck israel?</th>\n",
       "    </tr>\n",
       "  </thead>\n",
       "  <tbody>\n",
       "    <tr>\n",
       "      <th>124</th>\n",
       "      <td>2022/07/27 12:18:40 pm GMT+3</td>\n",
       "      <td>Pakistan</td>\n",
       "      <td>Male</td>\n",
       "      <td>17.0</td>\n",
       "      <td>Single</td>\n",
       "      <td>Student</td>\n",
       "      <td>No</td>\n",
       "      <td>High school</td>\n",
       "      <td>-</td>\n",
       "      <td>Dog</td>\n",
       "      <td>...</td>\n",
       "      <td>2</td>\n",
       "      <td>Pakistan</td>\n",
       "      <td>India</td>\n",
       "      <td>Islam</td>\n",
       "      <td>The Muslims around the world</td>\n",
       "      <td>One State Solution - Just Palestine</td>\n",
       "      <td>Neither</td>\n",
       "      <td>Palestine</td>\n",
       "      <td>No</td>\n",
       "      <td>Absolutely</td>\n",
       "    </tr>\n",
       "    <tr>\n",
       "      <th>126</th>\n",
       "      <td>2022/07/27 2:28:42 pm GMT+3</td>\n",
       "      <td>NaN</td>\n",
       "      <td>NaN</td>\n",
       "      <td>NaN</td>\n",
       "      <td>NaN</td>\n",
       "      <td>NaN</td>\n",
       "      <td>NaN</td>\n",
       "      <td>NaN</td>\n",
       "      <td>NaN</td>\n",
       "      <td>NaN</td>\n",
       "      <td>...</td>\n",
       "      <td>NaN</td>\n",
       "      <td>NaN</td>\n",
       "      <td>Iran</td>\n",
       "      <td>NaN</td>\n",
       "      <td>NaN</td>\n",
       "      <td>NaN</td>\n",
       "      <td>NaN</td>\n",
       "      <td>NaN</td>\n",
       "      <td>NaN</td>\n",
       "      <td>NaN</td>\n",
       "    </tr>\n",
       "    <tr>\n",
       "      <th>127</th>\n",
       "      <td>2022/07/27 2:39:57 pm GMT+3</td>\n",
       "      <td>NaN</td>\n",
       "      <td>NaN</td>\n",
       "      <td>NaN</td>\n",
       "      <td>NaN</td>\n",
       "      <td>NaN</td>\n",
       "      <td>NaN</td>\n",
       "      <td>NaN</td>\n",
       "      <td>NaN</td>\n",
       "      <td>NaN</td>\n",
       "      <td>...</td>\n",
       "      <td>NaN</td>\n",
       "      <td>NaN</td>\n",
       "      <td>NaN</td>\n",
       "      <td>NaN</td>\n",
       "      <td>NaN</td>\n",
       "      <td>NaN</td>\n",
       "      <td>NaN</td>\n",
       "      <td>NaN</td>\n",
       "      <td>NaN</td>\n",
       "      <td>NaN</td>\n",
       "    </tr>\n",
       "    <tr>\n",
       "      <th>128</th>\n",
       "      <td>2022/07/27 2:40:32 pm GMT+3</td>\n",
       "      <td>NaN</td>\n",
       "      <td>NaN</td>\n",
       "      <td>NaN</td>\n",
       "      <td>NaN</td>\n",
       "      <td>NaN</td>\n",
       "      <td>NaN</td>\n",
       "      <td>NaN</td>\n",
       "      <td>NaN</td>\n",
       "      <td>NaN</td>\n",
       "      <td>...</td>\n",
       "      <td>NaN</td>\n",
       "      <td>NaN</td>\n",
       "      <td>NaN</td>\n",
       "      <td>NaN</td>\n",
       "      <td>NaN</td>\n",
       "      <td>NaN</td>\n",
       "      <td>NaN</td>\n",
       "      <td>NaN</td>\n",
       "      <td>NaN</td>\n",
       "      <td>NaN</td>\n",
       "    </tr>\n",
       "    <tr>\n",
       "      <th>129</th>\n",
       "      <td>2022/07/27 2:44:30 pm GMT+3</td>\n",
       "      <td>tunisia</td>\n",
       "      <td>Male</td>\n",
       "      <td>32.0</td>\n",
       "      <td>Single</td>\n",
       "      <td>Employed</td>\n",
       "      <td>No</td>\n",
       "      <td>High school</td>\n",
       "      <td>NaN</td>\n",
       "      <td>Cat</td>\n",
       "      <td>...</td>\n",
       "      <td>3</td>\n",
       "      <td>NaN</td>\n",
       "      <td>NaN</td>\n",
       "      <td>Islam</td>\n",
       "      <td>Saudi Arabia</td>\n",
       "      <td>Two State Solution</td>\n",
       "      <td>Ukraine</td>\n",
       "      <td>Palestine</td>\n",
       "      <td>No</td>\n",
       "      <td>Of course</td>\n",
       "    </tr>\n",
       "  </tbody>\n",
       "</table>\n",
       "<p>5 rows × 25 columns</p>\n",
       "</div>"
      ],
      "text/plain": [
       "                        Timestamp Country of origin Gender  How old are you  \\\n",
       "124  2022/07/27 12:18:40 pm GMT+3          Pakistan   Male             17.0   \n",
       "126   2022/07/27 2:28:42 pm GMT+3               NaN    NaN              NaN   \n",
       "127   2022/07/27 2:39:57 pm GMT+3               NaN    NaN              NaN   \n",
       "128   2022/07/27 2:40:32 pm GMT+3               NaN    NaN              NaN   \n",
       "129   2022/07/27 2:44:30 pm GMT+3           tunisia   Male             32.0   \n",
       "\n",
       "    Marital status Professional status Are you a refugee  \\\n",
       "124         Single             Student                No   \n",
       "126            NaN                 NaN               NaN   \n",
       "127            NaN                 NaN               NaN   \n",
       "128            NaN                 NaN               NaN   \n",
       "129         Single            Employed                No   \n",
       "\n",
       "    What is your highest level of education Major choose a pet  ...  \\\n",
       "124                             High school     -          Dog  ...   \n",
       "126                                     NaN   NaN          NaN  ...   \n",
       "127                                     NaN   NaN          NaN  ...   \n",
       "128                                     NaN   NaN          NaN  ...   \n",
       "129                             High school   NaN          Cat  ...   \n",
       "\n",
       "    How many languages can you speak The country you love the most  \\\n",
       "124                                2                      Pakistan   \n",
       "126                              NaN                           NaN   \n",
       "127                              NaN                           NaN   \n",
       "128                              NaN                           NaN   \n",
       "129                                3                           NaN   \n",
       "\n",
       "     The country you hate the most Religion Saudi Arabia's oil belongs to  \\\n",
       "124                          India    Islam  The Muslims around the world   \n",
       "126                           Iran      NaN                           NaN   \n",
       "127                            NaN      NaN                           NaN   \n",
       "128                            NaN      NaN                           NaN   \n",
       "129                            NaN    Islam                  Saudi Arabia   \n",
       "\n",
       "                             I Support a I stand with  I Stand With  \\\n",
       "124  One State Solution - Just Palestine       Neither    Palestine   \n",
       "126                                  NaN           NaN          NaN   \n",
       "127                                  NaN           NaN          NaN   \n",
       "128                                  NaN           NaN          NaN   \n",
       "129                   Two State Solution       Ukraine    Palestine   \n",
       "\n",
       "    Are you satisfied with the current status of your country Fuck israel?  \n",
       "124                                                 No          Absolutely  \n",
       "126                                                NaN                 NaN  \n",
       "127                                                NaN                 NaN  \n",
       "128                                                NaN                 NaN  \n",
       "129                                                 No           Of course  \n",
       "\n",
       "[5 rows x 25 columns]"
      ]
     },
     "execution_count": 351,
     "metadata": {},
     "output_type": "execute_result"
    }
   ],
   "source": [
    "# pd.options.display.width=0\n",
    "# droping timestamp would have helped me using dropna(how=\"all\") to drop the below records \n",
    "# one of them have a single value and I thought I might use the time column.\n",
    "data[124:129]"
   ]
  },
  {
   "cell_type": "code",
   "execution_count": 352,
   "metadata": {},
   "outputs": [],
   "source": [
    "# these are null with one value\n",
    "data.drop((data.loc[126:128]).index,inplace=True)\n",
    "# this one is a troll; a 5 year old, 3 meters, from tonga, widowed and studies Thuganomics\n",
    "data.drop([20],axis=0,inplace=True)\n",
    "# this one have all null except for one column\n",
    "data.drop([7],axis=0,inplace=True)\n",
    "# data=data.reset_index(drop=True)"
   ]
  },
  {
   "cell_type": "code",
   "execution_count": 353,
   "metadata": {},
   "outputs": [],
   "source": [
    "data=data.reset_index(drop=True)"
   ]
  },
  {
   "cell_type": "code",
   "execution_count": 354,
   "metadata": {},
   "outputs": [],
   "source": [
    "eye=\"Eye color\"\n",
    "# black eyes are dark brown\n",
    "data=data.replace({f\"{eye}\":\".*(lack|Brown).*\"},\"Brown\",regex=True)\n",
    "data=data.replace({f\"{eye}\":\".*(ed|Pur).*\"},\"Other\",regex=True)"
   ]
  },
  {
   "cell_type": "code",
   "execution_count": 355,
   "metadata": {},
   "outputs": [
    {
     "data": {
      "text/plain": [
       "Brown    101\n",
       "Hazel     13\n",
       "Green      7\n",
       "Gray       4\n",
       "Blue       4\n",
       "Other      2\n",
       "Name: Eye color, dtype: int64"
      ]
     },
     "execution_count": 355,
     "metadata": {},
     "output_type": "execute_result"
    }
   ],
   "source": [
    "data[\"Eye color\"].value_counts()"
   ]
  },
  {
   "cell_type": "code",
   "execution_count": 356,
   "metadata": {},
   "outputs": [
    {
     "data": {
      "text/plain": [
       "0       23.0\n",
       "1       17.0\n",
       "2       21.0\n",
       "3       18.0\n",
       "4      120.0\n",
       "       ...  \n",
       "127     21.0\n",
       "128     15.0\n",
       "129     18.0\n",
       "130     23.0\n",
       "131     21.0\n",
       "Name: How old are you, Length: 132, dtype: float64"
      ]
     },
     "execution_count": 356,
     "metadata": {},
     "output_type": "execute_result"
    }
   ],
   "source": [
    "data[\"How old are you\"]"
   ]
  },
  {
   "cell_type": "code",
   "execution_count": 357,
   "metadata": {},
   "outputs": [
    {
     "data": {
      "text/plain": [
       "<AxesSubplot:>"
      ]
     },
     "execution_count": 357,
     "metadata": {},
     "output_type": "execute_result"
    },
    {
     "data": {
      "image/png": "[encoded data removed]",
      "text/plain": [
       "<Figure size 1440x576 with 1 Axes>"
      ]
     },
     "metadata": {},
     "output_type": "display_data"
    }
   ],
   "source": [
    "data[\"How old are you\"].value_counts().sort_index().plot.bar(figsize=(20,8))"
   ]
  },
  {
   "cell_type": "code",
   "execution_count": 358,
   "metadata": {},
   "outputs": [
    {
     "data": {
      "text/plain": [
       "<AxesSubplot:>"
      ]
     },
     "execution_count": 358,
     "metadata": {},
     "output_type": "execute_result"
    },
    {
     "data": {
      "image/png": "[encoded data removed]",
      "text/plain": [
       "<Figure size 1440x576 with 1 Axes>"
      ]
     },
     "metadata": {},
     "output_type": "display_data"
    }
   ],
   "source": [
    "data[\"How old are you\"].fillna(120).astype(int).value_counts().sort_index().plot.bar(figsize=(20,8))"
   ]
  },
  {
   "cell_type": "code",
   "execution_count": 359,
   "metadata": {},
   "outputs": [
    {
     "data": {
      "text/plain": [
       "<AxesSubplot:>"
      ]
     },
     "execution_count": 359,
     "metadata": {},
     "output_type": "execute_result"
    },
    {
     "data": {
      "image/png": "[encoded data removed]",
      "text/plain": [
       "<Figure size 1440x576 with 1 Axes>"
      ]
     },
     "metadata": {},
     "output_type": "display_data"
    }
   ],
   "source": [
    "data[\"Height in cm\"].fillna(300).astype(int).value_counts().sort_index().plot.bar(figsize=(20,8))"
   ]
  },
  {
   "cell_type": "code",
   "execution_count": 360,
   "metadata": {},
   "outputs": [
    {
     "data": {
      "text/plain": [
       "178.76125984251968"
      ]
     },
     "execution_count": 360,
     "metadata": {},
     "output_type": "execute_result"
    }
   ],
   "source": [
    "data[\"Height in cm\"].mean()"
   ]
  },
  {
   "cell_type": "code",
   "execution_count": 361,
   "metadata": {},
   "outputs": [
    {
     "data": {
      "text/plain": [
       "<AxesSubplot:ylabel='Fuck israel?'>"
      ]
     },
     "execution_count": 361,
     "metadata": {},
     "output_type": "execute_result"
    },
    {
     "data": {
      "image/png": "[encoded data removed]",
      "text/plain": [
       "<Figure size 432x288 with 1 Axes>"
      ]
     },
     "metadata": {},
     "output_type": "display_data"
    }
   ],
   "source": [
    "data[\"Fuck israel?\"].value_counts().plot.pie()"
   ]
  },
  {
   "cell_type": "code",
   "execution_count": 362,
   "metadata": {},
   "outputs": [
    {
     "data": {
      "text/plain": [
       "<AxesSubplot:ylabel='I stand with '>"
      ]
     },
     "execution_count": 362,
     "metadata": {},
     "output_type": "execute_result"
    },
    {
     "data": {
      "image/png": "[encoded data removed]",
      "text/plain": [
       "<Figure size 432x288 with 1 Axes>"
      ]
     },
     "metadata": {},
     "output_type": "display_data"
    }
   ],
   "source": [
    "data[\"I stand with \"].value_counts().plot.pie()"
   ]
  },
  {
   "cell_type": "code",
   "execution_count": 363,
   "metadata": {},
   "outputs": [
    {
     "data": {
      "text/plain": [
       "<AxesSubplot:ylabel='I Stand With'>"
      ]
     },
     "execution_count": 363,
     "metadata": {},
     "output_type": "execute_result"
    },
    {
     "data": {
      "image/png": "[encoded data removed]",
      "text/plain": [
       "<Figure size 432x288 with 1 Axes>"
      ]
     },
     "metadata": {},
     "output_type": "display_data"
    }
   ],
   "source": [
    "data[\"I Stand With\"].value_counts().plot.pie()"
   ]
  },
  {
   "cell_type": "code",
   "execution_count": 364,
   "metadata": {},
   "outputs": [
    {
     "data": {
      "text/plain": [
       "<AxesSubplot:ylabel='I Support a'>"
      ]
     },
     "execution_count": 364,
     "metadata": {},
     "output_type": "execute_result"
    },
    {
     "data": {
      "image/png": "[encoded data removed]",
      "text/plain": [
       "<Figure size 432x288 with 1 Axes>"
      ]
     },
     "metadata": {},
     "output_type": "display_data"
    }
   ],
   "source": [
    "data[\"I Support a\"].value_counts().plot.pie()"
   ]
  },
  {
   "cell_type": "code",
   "execution_count": 365,
   "metadata": {},
   "outputs": [
    {
     "data": {
      "text/plain": [
       "Afghanistan      2\n",
       "Algeria          6\n",
       "Australia        1\n",
       "Azerbaijan       1\n",
       "Bangladesh       1\n",
       "Denmark          1\n",
       "Egypt            7\n",
       "France           1\n",
       "India            3\n",
       "Iran             2\n",
       "Iraq             5\n",
       "Israel          11\n",
       "Italy            1\n",
       "Jordan           3\n",
       "Kuwait           2\n",
       "Lebanon          6\n",
       "Libya            2\n",
       "Malta            1\n",
       "Morocco          5\n",
       "Pakistan         8\n",
       "Palestine        5\n",
       "Philippines      1\n",
       "Qatar            1\n",
       "Romania          1\n",
       "Russia           1\n",
       "Saudi Arabia    11\n",
       "Singapore        1\n",
       "Slovenia         1\n",
       "Somalia          1\n",
       "Sudan            1\n",
       "Syria            4\n",
       "Tunisia          3\n",
       "Turkey           8\n",
       "UAE              2\n",
       "UK               2\n",
       "USA              4\n",
       "Yemen            3\n",
       "Your mom         1\n",
       "south korea      1\n",
       "taiwan           1\n",
       "tunisia          1\n",
       "Name: Country of origin, dtype: int64"
      ]
     },
     "execution_count": 365,
     "metadata": {},
     "output_type": "execute_result"
    }
   ],
   "source": [
    "data[\"Country of origin\"].value_counts().sort_index()"
   ]
  },
  {
   "cell_type": "code",
   "execution_count": 368,
   "metadata": {},
   "outputs": [
    {
     "data": {
      "text/html": [
       "<div>\n",
       "<style scoped>\n",
       "    .dataframe tbody tr th:only-of-type {\n",
       "        vertical-align: middle;\n",
       "    }\n",
       "\n",
       "    .dataframe tbody tr th {\n",
       "        vertical-align: top;\n",
       "    }\n",
       "\n",
       "    .dataframe thead th {\n",
       "        text-align: right;\n",
       "    }\n",
       "</style>\n",
       "<table border=\"1\" class=\"dataframe\">\n",
       "  <thead>\n",
       "    <tr style=\"text-align: right;\">\n",
       "      <th></th>\n",
       "      <th>Timestamp</th>\n",
       "      <th>Country of origin</th>\n",
       "      <th>Gender</th>\n",
       "      <th>How old are you</th>\n",
       "      <th>Marital status</th>\n",
       "      <th>Professional status</th>\n",
       "      <th>Are you a refugee</th>\n",
       "      <th>What is your highest level of education</th>\n",
       "      <th>Major</th>\n",
       "      <th>choose a pet</th>\n",
       "      <th>...</th>\n",
       "      <th>How many languages can you speak</th>\n",
       "      <th>The country you love the most</th>\n",
       "      <th>The country you hate the most</th>\n",
       "      <th>Religion</th>\n",
       "      <th>Saudi Arabia's oil belongs to</th>\n",
       "      <th>I Support a</th>\n",
       "      <th>I stand with</th>\n",
       "      <th>I Stand With</th>\n",
       "      <th>Are you satisfied with the current status of your country</th>\n",
       "      <th>Fuck israel?</th>\n",
       "    </tr>\n",
       "  </thead>\n",
       "  <tbody>\n",
       "    <tr>\n",
       "      <th>0</th>\n",
       "      <td>2022/07/26 2:58:21 pm GMT+3</td>\n",
       "      <td>Morocco</td>\n",
       "      <td>Male</td>\n",
       "      <td>23.0</td>\n",
       "      <td>Single</td>\n",
       "      <td>Student</td>\n",
       "      <td>No</td>\n",
       "      <td>Master's</td>\n",
       "      <td>Engineering</td>\n",
       "      <td>Dog</td>\n",
       "      <td>...</td>\n",
       "      <td>3</td>\n",
       "      <td>Algeria</td>\n",
       "      <td>Israel</td>\n",
       "      <td>Islam</td>\n",
       "      <td>USA</td>\n",
       "      <td>One State Solution - Just israel</td>\n",
       "      <td>Neither</td>\n",
       "      <td>Palestine</td>\n",
       "      <td>It's fine</td>\n",
       "      <td>Of course</td>\n",
       "    </tr>\n",
       "    <tr>\n",
       "      <th>1</th>\n",
       "      <td>2022/07/26 2:58:42 pm GMT+3</td>\n",
       "      <td>Israel</td>\n",
       "      <td>Male</td>\n",
       "      <td>17.0</td>\n",
       "      <td>Single</td>\n",
       "      <td>Student</td>\n",
       "      <td>No</td>\n",
       "      <td>Bachelor's</td>\n",
       "      <td>Computer science</td>\n",
       "      <td>Dog</td>\n",
       "      <td>...</td>\n",
       "      <td>3</td>\n",
       "      <td>Israel</td>\n",
       "      <td>France</td>\n",
       "      <td>Judaism</td>\n",
       "      <td>Saudi Arabia</td>\n",
       "      <td>One State Solution - Just israel</td>\n",
       "      <td>Ukraine</td>\n",
       "      <td>israel</td>\n",
       "      <td>Yes</td>\n",
       "      <td>NaN</td>\n",
       "    </tr>\n",
       "    <tr>\n",
       "      <th>2</th>\n",
       "      <td>2022/07/26 2:59:08 pm GMT+3</td>\n",
       "      <td>Lebanon</td>\n",
       "      <td>Female</td>\n",
       "      <td>21.0</td>\n",
       "      <td>Single</td>\n",
       "      <td>Unemployed</td>\n",
       "      <td>No</td>\n",
       "      <td>Bachelor's</td>\n",
       "      <td>NaN</td>\n",
       "      <td>Cat</td>\n",
       "      <td>...</td>\n",
       "      <td>3</td>\n",
       "      <td>Cyrpus</td>\n",
       "      <td>Iran</td>\n",
       "      <td>Atheism / Agnosticism</td>\n",
       "      <td>Saudi Arabia</td>\n",
       "      <td>Three State Solution</td>\n",
       "      <td>Neither</td>\n",
       "      <td>Palestine</td>\n",
       "      <td>No</td>\n",
       "      <td>Maybe</td>\n",
       "    </tr>\n",
       "    <tr>\n",
       "      <th>3</th>\n",
       "      <td>2022/07/26 2:59:27 pm GMT+3</td>\n",
       "      <td>Egypt</td>\n",
       "      <td>Male</td>\n",
       "      <td>18.0</td>\n",
       "      <td>Single</td>\n",
       "      <td>Student</td>\n",
       "      <td>No</td>\n",
       "      <td>High school</td>\n",
       "      <td>Computer Eng</td>\n",
       "      <td>Dog</td>\n",
       "      <td>...</td>\n",
       "      <td>2</td>\n",
       "      <td>Egypt</td>\n",
       "      <td>Israel</td>\n",
       "      <td>Islam</td>\n",
       "      <td>USA</td>\n",
       "      <td>One State Solution - Just Palestine</td>\n",
       "      <td>Neither</td>\n",
       "      <td>Palestine</td>\n",
       "      <td>No</td>\n",
       "      <td>Absolutely</td>\n",
       "    </tr>\n",
       "    <tr>\n",
       "      <th>4</th>\n",
       "      <td>2022/07/26 3:00:33 pm GMT+3</td>\n",
       "      <td>Saudi Arabia</td>\n",
       "      <td>Male</td>\n",
       "      <td>120.0</td>\n",
       "      <td>Single</td>\n",
       "      <td>Student</td>\n",
       "      <td>No</td>\n",
       "      <td>High school</td>\n",
       "      <td>Wtf is major</td>\n",
       "      <td>Cat</td>\n",
       "      <td>...</td>\n",
       "      <td>2</td>\n",
       "      <td>UAE</td>\n",
       "      <td>Israel</td>\n",
       "      <td>Islam</td>\n",
       "      <td>Saudi Arabia</td>\n",
       "      <td>Two State Solution</td>\n",
       "      <td>Neither</td>\n",
       "      <td>Neither</td>\n",
       "      <td>Yes</td>\n",
       "      <td>Absolutely</td>\n",
       "    </tr>\n",
       "    <tr>\n",
       "      <th>...</th>\n",
       "      <td>...</td>\n",
       "      <td>...</td>\n",
       "      <td>...</td>\n",
       "      <td>...</td>\n",
       "      <td>...</td>\n",
       "      <td>...</td>\n",
       "      <td>...</td>\n",
       "      <td>...</td>\n",
       "      <td>...</td>\n",
       "      <td>...</td>\n",
       "      <td>...</td>\n",
       "      <td>...</td>\n",
       "      <td>...</td>\n",
       "      <td>...</td>\n",
       "      <td>...</td>\n",
       "      <td>...</td>\n",
       "      <td>...</td>\n",
       "      <td>...</td>\n",
       "      <td>...</td>\n",
       "      <td>...</td>\n",
       "      <td>...</td>\n",
       "    </tr>\n",
       "    <tr>\n",
       "      <th>127</th>\n",
       "      <td>2022/07/29 10:03:22 pm GMT+3</td>\n",
       "      <td>India</td>\n",
       "      <td>Male</td>\n",
       "      <td>21.0</td>\n",
       "      <td>Single</td>\n",
       "      <td>Student</td>\n",
       "      <td>No</td>\n",
       "      <td>Bachelor's</td>\n",
       "      <td>Business</td>\n",
       "      <td>Cat</td>\n",
       "      <td>...</td>\n",
       "      <td>More than five</td>\n",
       "      <td>NaN</td>\n",
       "      <td>India</td>\n",
       "      <td>Islam</td>\n",
       "      <td>The Muslim Arabs</td>\n",
       "      <td>One State Solution - Just Palestine</td>\n",
       "      <td>Neither</td>\n",
       "      <td>Palestine</td>\n",
       "      <td>No</td>\n",
       "      <td>Absolutely</td>\n",
       "    </tr>\n",
       "    <tr>\n",
       "      <th>128</th>\n",
       "      <td>2022/07/29 10:33:12 pm GMT+3</td>\n",
       "      <td>Iraq</td>\n",
       "      <td>Male</td>\n",
       "      <td>15.0</td>\n",
       "      <td>Single</td>\n",
       "      <td>Student</td>\n",
       "      <td>No</td>\n",
       "      <td>High school</td>\n",
       "      <td>NaN</td>\n",
       "      <td>Dog</td>\n",
       "      <td>...</td>\n",
       "      <td>3</td>\n",
       "      <td>Germany</td>\n",
       "      <td>Saudi Arabia</td>\n",
       "      <td>Islam</td>\n",
       "      <td>Saudi Arabia</td>\n",
       "      <td>One State Solution - Just Palestine</td>\n",
       "      <td>Ukraine</td>\n",
       "      <td>Palestine</td>\n",
       "      <td>No</td>\n",
       "      <td>Yes</td>\n",
       "    </tr>\n",
       "    <tr>\n",
       "      <th>129</th>\n",
       "      <td>2022/07/30 1:02:11 am GMT+3</td>\n",
       "      <td>Saudi Arabia</td>\n",
       "      <td>Male</td>\n",
       "      <td>18.0</td>\n",
       "      <td>Single</td>\n",
       "      <td>Student</td>\n",
       "      <td>No</td>\n",
       "      <td>High school</td>\n",
       "      <td>idk wtf i want to be</td>\n",
       "      <td>Dog</td>\n",
       "      <td>...</td>\n",
       "      <td>2</td>\n",
       "      <td>Saudi Arabia</td>\n",
       "      <td>Israel</td>\n",
       "      <td>Islam</td>\n",
       "      <td>Saudi Arabia</td>\n",
       "      <td>One State Solution - Just Palestine</td>\n",
       "      <td>Neither</td>\n",
       "      <td>Palestine</td>\n",
       "      <td>It's fine</td>\n",
       "      <td>Of course</td>\n",
       "    </tr>\n",
       "    <tr>\n",
       "      <th>130</th>\n",
       "      <td>2022/07/30 1:33:46 am GMT+3</td>\n",
       "      <td>USA</td>\n",
       "      <td>Male</td>\n",
       "      <td>23.0</td>\n",
       "      <td>Single</td>\n",
       "      <td>Student</td>\n",
       "      <td>No</td>\n",
       "      <td>Diploma</td>\n",
       "      <td>Design</td>\n",
       "      <td>Cat</td>\n",
       "      <td>...</td>\n",
       "      <td>1</td>\n",
       "      <td>Israel</td>\n",
       "      <td>Algeria</td>\n",
       "      <td>Judaism</td>\n",
       "      <td>Saudi Arabia</td>\n",
       "      <td>One State Solution - Just israel</td>\n",
       "      <td>Ukraine</td>\n",
       "      <td>Both</td>\n",
       "      <td>No</td>\n",
       "      <td>Maybe</td>\n",
       "    </tr>\n",
       "    <tr>\n",
       "      <th>131</th>\n",
       "      <td>2022/07/30 8:14:59 am GMT+3</td>\n",
       "      <td>Lebanon</td>\n",
       "      <td>Male</td>\n",
       "      <td>21.0</td>\n",
       "      <td>Single</td>\n",
       "      <td>Student</td>\n",
       "      <td>No</td>\n",
       "      <td>High school</td>\n",
       "      <td>NaN</td>\n",
       "      <td>Cat</td>\n",
       "      <td>...</td>\n",
       "      <td>1</td>\n",
       "      <td>NaN</td>\n",
       "      <td>NaN</td>\n",
       "      <td>NaN</td>\n",
       "      <td>Saudi Arabia</td>\n",
       "      <td>Two State Solution</td>\n",
       "      <td>Ukraine</td>\n",
       "      <td>Palestine</td>\n",
       "      <td>No</td>\n",
       "      <td>Maybe</td>\n",
       "    </tr>\n",
       "  </tbody>\n",
       "</table>\n",
       "<p>132 rows × 25 columns</p>\n",
       "</div>"
      ],
      "text/plain": [
       "                        Timestamp Country of origin  Gender  How old are you  \\\n",
       "0     2022/07/26 2:58:21 pm GMT+3           Morocco    Male             23.0   \n",
       "1     2022/07/26 2:58:42 pm GMT+3            Israel    Male             17.0   \n",
       "2     2022/07/26 2:59:08 pm GMT+3           Lebanon  Female             21.0   \n",
       "3     2022/07/26 2:59:27 pm GMT+3             Egypt    Male             18.0   \n",
       "4     2022/07/26 3:00:33 pm GMT+3      Saudi Arabia    Male            120.0   \n",
       "..                            ...               ...     ...              ...   \n",
       "127  2022/07/29 10:03:22 pm GMT+3             India    Male             21.0   \n",
       "128  2022/07/29 10:33:12 pm GMT+3              Iraq    Male             15.0   \n",
       "129   2022/07/30 1:02:11 am GMT+3      Saudi Arabia    Male             18.0   \n",
       "130   2022/07/30 1:33:46 am GMT+3               USA    Male             23.0   \n",
       "131   2022/07/30 8:14:59 am GMT+3           Lebanon    Male             21.0   \n",
       "\n",
       "    Marital status Professional status Are you a refugee  \\\n",
       "0           Single             Student                No   \n",
       "1           Single             Student                No   \n",
       "2           Single          Unemployed                No   \n",
       "3           Single             Student                No   \n",
       "4           Single             Student                No   \n",
       "..             ...                 ...               ...   \n",
       "127         Single             Student                No   \n",
       "128         Single             Student                No   \n",
       "129         Single             Student                No   \n",
       "130         Single             Student                No   \n",
       "131         Single             Student                No   \n",
       "\n",
       "    What is your highest level of education                  Major  \\\n",
       "0                                  Master's           Engineering    \n",
       "1                                Bachelor's      Computer science    \n",
       "2                                Bachelor's                    NaN   \n",
       "3                               High school           Computer Eng   \n",
       "4                               High school           Wtf is major   \n",
       "..                                      ...                    ...   \n",
       "127                              Bachelor's              Business    \n",
       "128                             High school                    NaN   \n",
       "129                             High school  idk wtf i want to be    \n",
       "130                                 Diploma                 Design   \n",
       "131                             High school                    NaN   \n",
       "\n",
       "    choose a pet  ... How many languages can you speak  \\\n",
       "0            Dog  ...                                3   \n",
       "1            Dog  ...                                3   \n",
       "2            Cat  ...                                3   \n",
       "3            Dog  ...                                2   \n",
       "4            Cat  ...                                2   \n",
       "..           ...  ...                              ...   \n",
       "127          Cat  ...                   More than five   \n",
       "128          Dog  ...                                3   \n",
       "129          Dog  ...                                2   \n",
       "130          Cat  ...                                1   \n",
       "131          Cat  ...                                1   \n",
       "\n",
       "    The country you love the most  The country you hate the most  \\\n",
       "0                         Algeria                         Israel   \n",
       "1                          Israel                         France   \n",
       "2                         Cyrpus                            Iran   \n",
       "3                           Egypt                         Israel   \n",
       "4                             UAE                         Israel   \n",
       "..                            ...                            ...   \n",
       "127                           NaN                          India   \n",
       "128                       Germany                   Saudi Arabia   \n",
       "129                  Saudi Arabia                         Israel   \n",
       "130                        Israel                        Algeria   \n",
       "131                           NaN                            NaN   \n",
       "\n",
       "                  Religion Saudi Arabia's oil belongs to  \\\n",
       "0                    Islam                           USA   \n",
       "1                  Judaism                  Saudi Arabia   \n",
       "2    Atheism / Agnosticism                  Saudi Arabia   \n",
       "3                    Islam                           USA   \n",
       "4                    Islam                  Saudi Arabia   \n",
       "..                     ...                           ...   \n",
       "127                  Islam              The Muslim Arabs   \n",
       "128                  Islam                  Saudi Arabia   \n",
       "129                  Islam                  Saudi Arabia   \n",
       "130                Judaism                  Saudi Arabia   \n",
       "131                    NaN                  Saudi Arabia   \n",
       "\n",
       "                             I Support a I stand with  I Stand With  \\\n",
       "0       One State Solution - Just israel       Neither    Palestine   \n",
       "1       One State Solution - Just israel       Ukraine       israel   \n",
       "2                   Three State Solution       Neither    Palestine   \n",
       "3    One State Solution - Just Palestine       Neither    Palestine   \n",
       "4                     Two State Solution       Neither      Neither   \n",
       "..                                   ...           ...          ...   \n",
       "127  One State Solution - Just Palestine       Neither    Palestine   \n",
       "128  One State Solution - Just Palestine       Ukraine    Palestine   \n",
       "129  One State Solution - Just Palestine       Neither    Palestine   \n",
       "130     One State Solution - Just israel       Ukraine         Both   \n",
       "131                   Two State Solution       Ukraine    Palestine   \n",
       "\n",
       "    Are you satisfied with the current status of your country Fuck israel?  \n",
       "0                                            It's fine           Of course  \n",
       "1                                                  Yes                 NaN  \n",
       "2                                                   No               Maybe  \n",
       "3                                                   No          Absolutely  \n",
       "4                                                  Yes          Absolutely  \n",
       "..                                                 ...                 ...  \n",
       "127                                                 No          Absolutely  \n",
       "128                                                 No                 Yes  \n",
       "129                                          It's fine           Of course  \n",
       "130                                                 No               Maybe  \n",
       "131                                                 No               Maybe  \n",
       "\n",
       "[132 rows x 25 columns]"
      ]
     },
     "execution_count": 368,
     "metadata": {},
     "output_type": "execute_result"
    }
   ],
   "source": [
    "data"
   ]
  },
  {
   "cell_type": "code",
   "execution_count": 367,
   "metadata": {},
   "outputs": [],
   "source": [
    "data.to_csv(\"askdata.csv\")"
   ]
  }
 ],
 "metadata": {
  "kernelspec": {
   "display_name": "Python 3.8.10 64-bit",
   "language": "python",
   "name": "python3"
  },
  "language_info": {
   "codemirror_mode": {
    "name": "ipython",
    "version": 3
   },
   "file_extension": ".py",
   "mimetype": "text/x-python",
   "name": "python",
   "nbconvert_exporter": "python",
   "pygments_lexer": "ipython3",
   "version": "3.8.10"
  },
  "orig_nbformat": 4,
  "vscode": {
   "interpreter": {
    "hash": "e7370f93d1d0cde622a1f8e1c04877d8463912d04d973331ad4851f04de6915a"
   }
  }
 },
 "nbformat": 4,
 "nbformat_minor": 2
}
